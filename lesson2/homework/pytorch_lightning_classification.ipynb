{
  "cells": [
    {
      "cell_type": "markdown",
      "metadata": {},
      "source": [
        "# Классификация на PyTorch Lightning\n"
      ]
    },
    {
      "cell_type": "code",
      "execution_count": null,
      "metadata": {},
      "outputs": [],
      "source": [
        "import torch\n",
        "import torch.nn as nn\n",
        "import pytorch_lightning as pl\n",
        "from torch.utils.data import Dataset, DataLoader\n",
        "import numpy as np\n",
        "import matplotlib.pyplot as plt\n",
        "from sklearn.datasets import load_wine\n",
        "from sklearn.model_selection import train_test_split\n",
        "from sklearn.preprocessing import StandardScaler\n",
        "from sklearn.metrics import accuracy_score\n"
      ]
    },
    {
      "cell_type": "code",
      "execution_count": null,
      "metadata": {},
      "outputs": [],
      "source": [
        "wine = load_wine()\n",
        "X = wine.data\n",
        "y = wine.target\n",
        "\n",
        "X_train, X_test, y_train, y_test = train_test_split(X, y, test_size=0.2, random_state=42)\n",
        "\n",
        "scaler = StandardScaler()\n",
        "X_train = scaler.fit_transform(X_train)\n",
        "X_test = scaler.transform(X_test)\n",
        "\n",
        "X_train = torch.FloatTensor(X_train)\n",
        "X_test = torch.FloatTensor(X_test)\n",
        "y_train = torch.LongTensor(y_train)\n",
        "y_test = torch.LongTensor(y_test)\n",
        "\n",
        "print(f\"Train: {X_train.shape}, Test: {X_test.shape}\")\n",
        "print(f\"Classes: {len(np.unique(y))}\")\n"
      ]
    },
    {
      "cell_type": "code",
      "execution_count": null,
      "metadata": {},
      "outputs": [],
      "source": [
        "class WineDataset(Dataset):\n",
        "    def __init__(self, X, y):\n",
        "        self.X = X\n",
        "        self.y = y\n",
        "    \n",
        "    def __len__(self):\n",
        "        return len(self.X)\n",
        "    \n",
        "    def __getitem__(self, idx):\n",
        "        return self.X[idx], self.y[idx]\n",
        "\n",
        "class WineDataModule(pl.LightningDataModule):\n",
        "    def __init__(self, X_train, X_test, y_train, y_test, batch_size=16):\n",
        "        super().__init__()\n",
        "        # TODO\n",
        "    \n",
        "    def setup(self, stage=None):\n",
        "        # TODO\n",
        "    \n",
        "    def train_dataloader(self):\n",
        "        # TODO\n",
        "    \n",
        "    def val_dataloader(self):\n",
        "        # TODO\n",
        "    \n",
        "    def test_dataloader(self):\n",
        "        # TODO\n"
      ]
    },
    {
      "cell_type": "code",
      "execution_count": null,
      "metadata": {},
      "outputs": [],
      "source": [
        "class NeuralNetLightning(pl.LightningModule):\n",
        "    def __init__(self, input_size, num_classes, lr=0.001):\n",
        "        super().__init__()\n",
        "        # TODO\n",
        "    \n",
        "    def forward(self, x):\n",
        "        # TODO\n",
        "    \n",
        "    def training_step(self, batch, batch_idx):\n",
        "        # TODO\n",
        "    \n",
        "    def validation_step(self, batch, batch_idx):\n",
        "        # TODO\n",
        "    \n",
        "    def test_step(self, batch, batch_idx):\n",
        "        # TODO\n",
        "    \n",
        "    def configure_optimizers(self):\n",
        "        # TODO\n"
      ]
    },
    {
      "cell_type": "code",
      "execution_count": null,
      "metadata": {},
      "outputs": [],
      "source": [
        "data_module = WineDataModule(X_train, X_test, y_train, y_test, batch_size=16)\n",
        "model = NeuralNetLightning(input_size=13, num_classes=3, lr=0.001)\n",
        "\n",
        "print(model)\n"
      ]
    },
    {
      "cell_type": "code",
      "execution_count": null,
      "metadata": {},
      "outputs": [],
      "source": [
        "trainer = pl.Trainer(\n",
        "    max_epochs=100,\n",
        "    accelerator='auto',\n",
        "    devices=1,\n",
        "    log_every_n_steps=5,\n",
        "    enable_progress_bar=True\n",
        ")\n",
        "\n",
        "trainer.fit(model, data_module)\n"
      ]
    },
    {
      "cell_type": "code",
      "execution_count": null,
      "metadata": {},
      "outputs": [],
      "source": [
        "test_result = trainer.test(model, data_module)\n",
        "print(f\"Test Accuracy: {test_result[0]['test_acc']:.4f}\")\n"
      ]
    },
    {
      "cell_type": "code",
      "execution_count": null,
      "metadata": {},
      "outputs": [],
      "source": [
        "model.eval()\n",
        "with torch.no_grad():\n",
        "    logits = model(X_test)\n",
        "    predicted = torch.argmax(logits, dim=1)\n",
        "    \n",
        "from sklearn.metrics import classification_report\n",
        "print(\"\\nClassification Report:\")\n",
        "print(classification_report(y_test, predicted, target_names=wine.target_names))\n"
      ]
    }
  ],
  "metadata": {
    "language_info": {
      "name": "python"
    }
  },
  "nbformat": 4,
  "nbformat_minor": 2
}
