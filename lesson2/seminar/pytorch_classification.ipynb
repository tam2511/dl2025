{
  "cells": [
    {
      "cell_type": "markdown",
      "metadata": {},
      "source": [
        "# Классификация на PyTorch\n"
      ]
    },
    {
      "cell_type": "markdown",
      "metadata": {},
      "source": [
        "## Импорт библиотек\n",
        "\n",
        "Подключаем необходимые библиотеки:\n",
        "- `torch` - основная библиотека PyTorch\n",
        "- `torch.nn` - модуль для создания нейронных сетей\n",
        "- `torch.optim` - оптимизаторы для обучения\n",
        "- `Dataset, DataLoader` - для работы с данными\n",
        "- `sklearn` - для загрузки датасета и метрик\n"
      ]
    },
    {
      "cell_type": "code",
      "execution_count": null,
      "metadata": {},
      "outputs": [],
      "source": [
        "import torch\n",
        "import torch.nn as nn\n",
        "import torch.optim as optim\n",
        "from torch.utils.data import Dataset, DataLoader\n",
        "import numpy as np\n",
        "import matplotlib.pyplot as plt\n",
        "from sklearn.datasets import load_wine\n",
        "from sklearn.model_selection import train_test_split\n",
        "from sklearn.preprocessing import StandardScaler\n",
        "from sklearn.metrics import accuracy_score, classification_report\n"
      ]
    },
    {
      "cell_type": "markdown",
      "metadata": {},
      "source": [
        "## Загрузка и подготовка данных\n",
        "\n",
        "Используем датасет Wine - классификация вин на 3 класса по 13 химическим признакам:\n",
        "1. Загружаем данные и разделяем на train/test\n",
        "2. Нормализуем признаки с помощью `StandardScaler` (важно для обучения нейросетей)\n",
        "3. Конвертируем numpy массивы в PyTorch тензоры\n",
        "   - `FloatTensor` для признаков (X)\n",
        "   - `LongTensor` для меток классов (y)\n"
      ]
    },
    {
      "cell_type": "code",
      "execution_count": null,
      "metadata": {},
      "outputs": [],
      "source": [
        "wine = load_wine()\n",
        "X = wine.data\n",
        "y = wine.target\n",
        "\n",
        "X_train, X_test, y_train, y_test = train_test_split(X, y, test_size=0.2, random_state=42)\n",
        "\n",
        "scaler = StandardScaler()\n",
        "X_train = scaler.fit_transform(X_train)\n",
        "X_test = scaler.transform(X_test)\n",
        "\n",
        "X_train = torch.FloatTensor(X_train)\n",
        "X_test = torch.FloatTensor(X_test)\n",
        "y_train = torch.LongTensor(y_train)\n",
        "y_test = torch.LongTensor(y_test)\n",
        "\n",
        "print(f\"Train: {X_train.shape}, Test: {X_test.shape}\")\n",
        "print(f\"Classes: {len(np.unique(y))}\")\n"
      ]
    },
    {
      "cell_type": "markdown",
      "metadata": {},
      "source": [
        "## Создание Dataset\n",
        "\n",
        "`Dataset` - класс PyTorch для работы с данными. Должен реализовывать:\n",
        "- `__init__` - инициализация с данными\n",
        "- `__len__` - возвращает размер датасета\n",
        "- `__getitem__` - возвращает один пример по индексу (пара X, y)\n"
      ]
    },
    {
      "cell_type": "code",
      "execution_count": null,
      "metadata": {},
      "outputs": [],
      "source": [
        "class WineDataset(Dataset):\n",
        "    def __init__(self, X, y):\n",
        "        self.X = X\n",
        "        self.y = y\n",
        "    \n",
        "    def __len__(self):\n",
        "        return len(self.X)\n",
        "    \n",
        "    def __getitem__(self, idx):\n",
        "        return self.X[idx], self.y[idx]\n"
      ]
    },
    {
      "cell_type": "markdown",
      "metadata": {},
      "source": [
        "## Создание DataLoader\n",
        "\n",
        "`DataLoader` - загрузчик данных, который:\n",
        "- Автоматически разбивает данные на батчи заданного размера\n",
        "- `shuffle=True` для train - перемешивает данные каждую эпоху\n",
        "- `shuffle=False` для test - сохраняет порядок примеров\n",
        "- Позволяет эффективно итерироваться по данным в цикле обучения\n"
      ]
    },
    {
      "cell_type": "code",
      "execution_count": null,
      "metadata": {},
      "outputs": [],
      "source": [
        "train_dataset = WineDataset(X_train, y_train)\n",
        "test_dataset = WineDataset(X_test, y_test)\n",
        "\n",
        "train_loader = DataLoader(train_dataset, batch_size=16, shuffle=True)\n",
        "test_loader = DataLoader(test_dataset, batch_size=16, shuffle=False)\n"
      ]
    },
    {
      "cell_type": "markdown",
      "metadata": {},
      "source": [
        "## Определение модели\n",
        "\n",
        "Создаем класс нейронной сети, наследуясь от `nn.Module`:\n",
        "- `__init__` - определяем архитектуру (слои сети)\n",
        "  - Динамически создаем слои на основе списка `hidden_sizes`\n",
        "  - Каждый скрытый слой: Linear → ReLU\n",
        "  - Выходной слой: Linear без активации (логиты для CrossEntropyLoss)\n",
        "- `forward` - определяем прямой проход (как данные проходят через сеть)\n"
      ]
    },
    {
      "cell_type": "code",
      "execution_count": null,
      "metadata": {},
      "outputs": [],
      "source": [
        "class NeuralNet(nn.Module):\n",
        "    def __init__(self, input_size, hidden_sizes, num_classes):\n",
        "        super(NeuralNet, self).__init__()\n",
        "        layers = []\n",
        "        prev_size = input_size\n",
        "        for hidden_size in hidden_sizes:\n",
        "            layers.append(nn.Linear(prev_size, hidden_size))\n",
        "            layers.append(nn.ReLU())\n",
        "            prev_size = hidden_size\n",
        "        layers.append(nn.Linear(prev_size, num_classes))\n",
        "        self.network = nn.Sequential(*layers)\n",
        "    \n",
        "    def forward(self, x):\n",
        "        return self.network(x)\n"
      ]
    },
    {
      "cell_type": "markdown",
      "metadata": {},
      "source": [
        "## Инициализация компонентов обучения\n",
        "\n",
        "Настраиваем все необходимое для обучения:\n",
        "- `device` - определяем устройство (GPU если доступно, иначе CPU)\n",
        "- `model` - создаем модель и переносим на устройство\n",
        "- `criterion` - функция потерь (CrossEntropyLoss для классификации)\n",
        "- `optimizer` - оптимизатор Adam с learning rate 0.001\n"
      ]
    },
    {
      "cell_type": "code",
      "execution_count": null,
      "metadata": {},
      "outputs": [],
      "source": [
        "device = torch.device('cuda' if torch.cuda.is_available() else 'cpu')\n",
        "model = NeuralNet(input_size=13, hidden_sizes=[32, 16], num_classes=3).to(device)\n",
        "criterion = nn.CrossEntropyLoss()\n",
        "optimizer = optim.Adam(model.parameters(), lr=0.001)\n",
        "\n",
        "print(model)\n"
      ]
    },
    {
      "cell_type": "markdown",
      "metadata": {},
      "source": [
        "## Цикл обучения (Training Loop)\n",
        "\n",
        "Основной цикл обучения по эпохам:\n",
        "\n",
        "**Фаза обучения:**\n",
        "1. `model.train()` - переводим модель в режим обучения\n",
        "2. Проходим по батчам из train_loader\n",
        "3. Переносим данные на устройство\n",
        "4. Forward pass - получаем предсказания\n",
        "5. Вычисляем loss\n",
        "6. `optimizer.zero_grad()` - обнуляем градиенты\n",
        "7. `loss.backward()` - вычисляем градиенты (backpropagation)\n",
        "8. `optimizer.step()` - обновляем веса\n",
        "\n",
        "**Фаза валидации:**\n",
        "1. `model.eval()` - переводим модель в режим оценки\n",
        "2. `torch.no_grad()` - отключаем вычисление градиентов (экономим память)\n",
        "3. Получаем предсказания на test данных\n",
        "4. Вычисляем accuracy\n"
      ]
    },
    {
      "cell_type": "code",
      "execution_count": null,
      "metadata": {},
      "outputs": [],
      "source": [
        "num_epochs = 100\n",
        "train_losses = []\n",
        "test_accuracies = []\n",
        "\n",
        "for epoch in range(num_epochs):\n",
        "    model.train()\n",
        "    epoch_loss = 0\n",
        "    for X_batch, y_batch in train_loader:\n",
        "        X_batch, y_batch = X_batch.to(device), y_batch.to(device)\n",
        "        \n",
        "        outputs = model(X_batch)\n",
        "        loss = criterion(outputs, y_batch)\n",
        "        \n",
        "        optimizer.zero_grad()\n",
        "        loss.backward()\n",
        "        optimizer.step()\n",
        "        \n",
        "        epoch_loss += loss.item()\n",
        "    \n",
        "    train_losses.append(epoch_loss / len(train_loader))\n",
        "    \n",
        "    model.eval()\n",
        "    with torch.no_grad():\n",
        "        all_preds = []\n",
        "        all_labels = []\n",
        "        for X_batch, y_batch in test_loader:\n",
        "            X_batch = X_batch.to(device)\n",
        "            outputs = model(X_batch)\n",
        "            _, predicted = torch.max(outputs, 1)\n",
        "            all_preds.extend(predicted.cpu().numpy())\n",
        "            all_labels.extend(y_batch.numpy())\n",
        "        \n",
        "        test_acc = accuracy_score(all_labels, all_preds)\n",
        "        test_accuracies.append(test_acc)\n",
        "    \n",
        "    if (epoch + 1) % 10 == 0:\n",
        "        print(f'Epoch [{epoch+1}/{num_epochs}], Loss: {train_losses[-1]:.4f}, Test Acc: {test_acc:.4f}')\n"
      ]
    },
    {
      "cell_type": "markdown",
      "metadata": {},
      "source": [
        "## Визуализация результатов обучения\n",
        "\n",
        "Строим графики для анализа процесса обучения:\n",
        "- **Loss** - показывает как уменьшается ошибка на обучающей выборке\n",
        "- **Accuracy** - показывает как растет точность на тестовой выборке\n",
        "\n",
        "Это помогает понять:\n",
        "- Обучается ли модель (loss должен падать)\n",
        "- Есть ли переобучение (если test accuracy падает при росте train accuracy)\n",
        "- Нужно ли больше эпох или модель уже сошлась\n"
      ]
    },
    {
      "cell_type": "code",
      "execution_count": null,
      "metadata": {},
      "outputs": [],
      "source": [
        "fig, axes = plt.subplots(1, 2, figsize=(15, 5))\n",
        "\n",
        "axes[0].plot(train_losses)\n",
        "axes[0].set_xlabel('Epoch')\n",
        "axes[0].set_ylabel('Loss')\n",
        "axes[0].set_title('Training Loss')\n",
        "axes[0].grid(True)\n",
        "\n",
        "axes[1].plot(test_accuracies)\n",
        "axes[1].set_xlabel('Epoch')\n",
        "axes[1].set_ylabel('Accuracy')\n",
        "axes[1].set_title('Test Accuracy')\n",
        "axes[1].grid(True)\n",
        "\n",
        "plt.tight_layout()\n",
        "plt.show()\n"
      ]
    },
    {
      "cell_type": "markdown",
      "metadata": {},
      "source": [
        "## Финальная оценка модели\n",
        "\n",
        "Проводим финальную оценку обученной модели:\n",
        "- Получаем предсказания на всей тестовой выборке\n",
        "- Выводим общую точность\n",
        "- `classification_report` показывает детальные метрики для каждого класса:\n",
        "  - **precision** - точность (какая доля предсказанных как класс X действительно X)\n",
        "  - **recall** - полнота (какую долю всех X мы нашли)\n",
        "  - **f1-score** - гармоническое среднее precision и recall\n",
        "  - **support** - количество примеров каждого класса\n"
      ]
    },
    {
      "cell_type": "code",
      "execution_count": null,
      "metadata": {},
      "outputs": [],
      "source": [
        "model.eval()\n",
        "with torch.no_grad():\n",
        "    X_test_device = X_test.to(device)\n",
        "    outputs = model(X_test_device)\n",
        "    _, predicted = torch.max(outputs, 1)\n",
        "    predicted = predicted.cpu().numpy()\n",
        "    \n",
        "print(f\"Final Test Accuracy: {accuracy_score(y_test, predicted):.4f}\")\n",
        "print(\"\\nClassification Report:\")\n",
        "print(classification_report(y_test, predicted, target_names=wine.target_names))\n"
      ]
    }
  ],
  "metadata": {
    "language_info": {
      "name": "python"
    }
  },
  "nbformat": 4,
  "nbformat_minor": 2
}
