{
  "cells": [
    {
      "cell_type": "markdown",
      "metadata": {},
      "source": [
        "# Создание нейрона с помощью NumPy\n",
        "\n",
        "В этом ноутбуке мы:\n",
        "1. Реализуем простой нейрон используя NumPy\n",
        "2. Вычислим производные для обратного распространения\n",
        "3. Создадим класс, который сохраняет состояния необходимые для прямого и обратного прохода\n"
      ]
    },
    {
      "cell_type": "code",
      "execution_count": null,
      "metadata": {},
      "outputs": [],
      "source": [
        "import numpy as np\n",
        "import matplotlib.pyplot as plt\n",
        "\n",
        "np.random.seed(42)\n"
      ]
    },
    {
      "cell_type": "markdown",
      "metadata": {},
      "source": [
        "## 1. Реализация простого нейрона\n",
        "\n",
        "Нейрон выполняет следующую операцию:\n",
        "$$y = \\sigma(w^T x + b)$$\n",
        "\n",
        "где:\n",
        "- $x$ - входной вектор\n",
        "- $w$ - вектор весов\n",
        "- $b$ - смещение\n",
        "- $\\sigma$ - функция активации (будем использовать сигмоиду)\n"
      ]
    },
    {
      "cell_type": "code",
      "execution_count": null,
      "metadata": {},
      "outputs": [],
      "source": [
        "def sigmoid(z):\n",
        "    return 1 / (1 + np.exp(-z))\n",
        "\n",
        "def neuron_forward(x, w, b):\n",
        "    z = np.dot(w, x) + b\n",
        "    output = sigmoid(z)\n",
        "    return output\n",
        "\n",
        "x = np.array([1.0, 2.0, 3.0])\n",
        "w = np.array([0.5, -0.2, 0.1])\n",
        "b = 0.3\n",
        "\n",
        "output = neuron_forward(x, w, b)\n",
        "print(f\"Input: {x}\")\n",
        "print(f\"Weights: {w}\")\n",
        "print(f\"Bias: {b}\")\n",
        "print(f\"Output: {output:.4f}\")\n"
      ]
    },
    {
      "cell_type": "markdown",
      "metadata": {},
      "source": [
        "## 2. Вычисление производных для обратного распространения\n",
        "\n",
        "Для обратного распространения нам нужно вычислить градиенты:\n",
        "\n",
        "**Производная сигмоиды:**\n",
        "$$\\frac{\\partial \\sigma}{\\partial z} = \\sigma(z) \\cdot (1 - \\sigma(z))$$\n",
        "\n",
        "**Градиенты по параметрам:**\n",
        "- $\\frac{\\partial L}{\\partial w} = \\frac{\\partial L}{\\partial y} \\cdot \\frac{\\partial y}{\\partial z} \\cdot \\frac{\\partial z}{\\partial w} = \\frac{\\partial L}{\\partial y} \\cdot \\sigma'(z) \\cdot x$\n",
        "- $\\frac{\\partial L}{\\partial b} = \\frac{\\partial L}{\\partial y} \\cdot \\frac{\\partial y}{\\partial z} \\cdot \\frac{\\partial z}{\\partial b} = \\frac{\\partial L}{\\partial y} \\cdot \\sigma'(z)$\n"
      ]
    },
    {
      "cell_type": "code",
      "execution_count": null,
      "metadata": {},
      "outputs": [],
      "source": [
        "def sigmoid_derivative(z):\n",
        "    s = sigmoid(z)\n",
        "    return s * (1 - s)\n",
        "\n",
        "def neuron_backward(x, w, b, dy):\n",
        "    z = np.dot(w, x) + b\n",
        "    dz = dy * sigmoid_derivative(z)\n",
        "    dw = dz * x\n",
        "    db = dz\n",
        "    dx = dz * w\n",
        "    return dw, db, dx\n",
        "\n",
        "x = np.array([1.0, 2.0, 3.0])\n",
        "w = np.array([0.5, -0.2, 0.1])\n",
        "b = 0.3\n",
        "dy = 1.0\n",
        "\n",
        "dw, db, dx = neuron_backward(x, w, b, dy)\n",
        "print(f\"Gradient w.r.t. weights: {dw}\")\n",
        "print(f\"Gradient w.r.t. bias: {db:.4f}\")\n",
        "print(f\"Gradient w.r.t. input: {dx}\")\n"
      ]
    },
    {
      "cell_type": "markdown",
      "metadata": {},
      "source": [
        "## 3. Класс нейрона с управлением состоянием\n",
        "\n",
        "Теперь создадим класс, который:\n",
        "- Хранит параметры (веса и смещение)\n",
        "- Кэширует промежуточные значения во время прямого прохода\n",
        "- Использует кэшированные значения для эффективного обратного прохода\n",
        "- Реализует обновление параметров\n"
      ]
    },
    {
      "cell_type": "code",
      "execution_count": null,
      "metadata": {},
      "outputs": [],
      "source": [
        "class Neuron:\n",
        "    def __init__(self, n_features):\n",
        "        self.n_features = n_features\n",
        "        self.w = np.random.randn(n_features) * 0.01\n",
        "        self.b = 0.0\n",
        "        self.cache = {}\n",
        "        \n",
        "    def forward(self, x):\n",
        "        z = np.dot(x, self.w) + self.b\n",
        "        output = sigmoid(z)\n",
        "        self.cache['x'] = x\n",
        "        self.cache['z'] = z\n",
        "        self.cache['output'] = output\n",
        "        return output\n",
        "    \n",
        "    def backward(self, dy):\n",
        "        x = self.cache['x']\n",
        "        z = self.cache['z']\n",
        "        output = self.cache['output']\n",
        "        dz = dy * output * (1 - output)\n",
        "        \n",
        "        if x.ndim == 1:\n",
        "            self.dw = dz * x\n",
        "            self.db = dz\n",
        "            dx = dz * self.w\n",
        "        else:\n",
        "            batch_size = x.shape[0]\n",
        "            self.dw = np.dot(x.T, dz) / batch_size\n",
        "            self.db = np.mean(dz)\n",
        "            dx = np.outer(dz, self.w)\n",
        "        \n",
        "        return dx\n",
        "    \n",
        "    def update_parameters(self, learning_rate):\n",
        "        self.w -= learning_rate * self.dw\n",
        "        self.b -= learning_rate * self.db\n",
        "    \n",
        "    def get_parameters(self):\n",
        "        return {'w': self.w.copy(), 'b': self.b}\n"
      ]
    },
    {
      "cell_type": "markdown",
      "metadata": {},
      "source": [
        "## 4. Пример использования класса\n"
      ]
    },
    {
      "cell_type": "code",
      "execution_count": null,
      "metadata": {},
      "outputs": [],
      "source": [
        "neuron = Neuron(n_features=3)\n",
        "\n",
        "x = np.array([1.0, 2.0, 3.0])\n",
        "output = neuron.forward(x)\n",
        "print(f\"Output: {output:.4f}\")\n",
        "\n",
        "dy = 1.0\n",
        "dx = neuron.backward(dy)\n",
        "print(f\"Градиент по входу: {dx}\")\n",
        "\n",
        "neuron.update_parameters(learning_rate=0.1)\n",
        "print(f\"Обновленные параметры: {neuron.get_parameters()}\")\n"
      ]
    },
    {
      "cell_type": "markdown",
      "metadata": {},
      "source": []
    }
  ],
  "metadata": {
    "language_info": {
      "name": "python"
    }
  },
  "nbformat": 4,
  "nbformat_minor": 2
}
